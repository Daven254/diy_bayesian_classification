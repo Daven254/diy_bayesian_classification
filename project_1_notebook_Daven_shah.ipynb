{
 "cells": [
  {
   "cell_type": "code",
   "execution_count": 342,
   "metadata": {},
   "outputs": [
    {
     "name": "stdout",
     "output_type": "stream",
     "text": [
      "[5000, 5000, 980, 1135]\n",
      "Your trainset and testset are generated successfully!\n"
     ]
    }
   ],
   "source": [
    "import numpy\n",
    "import scipy.io\n",
    "import math\n",
    "import geneNewData\n",
    "\n",
    "def main():\n",
    "    myID='5603'\n",
    "    geneNewData.geneData(myID)\n",
    "    Numpyfile0 = scipy.io.loadmat('digit0_stu_train'+myID+'.mat')\n",
    "    Numpyfile1 = scipy.io.loadmat('digit1_stu_train'+myID+'.mat')\n",
    "    Numpyfile2 = scipy.io.loadmat('digit0_testset'+'.mat')\n",
    "    Numpyfile3 = scipy.io.loadmat('digit1_testset'+'.mat')\n",
    "    train0 = Numpyfile0.get('target_img')\n",
    "    train1 = Numpyfile1.get('target_img')\n",
    "    test0 = Numpyfile2.get('target_img')\n",
    "    test1 = Numpyfile3.get('target_img')\n",
    "    print([len(train0),len(train1),len(test0),len(test1)])\n",
    "    print('Your trainset and testset are generated successfully!')\n",
    "    pass\n",
    "\n",
    "\n",
    "if __name__ == '__main__':\n",
    "    main()"
   ]
  },
  {
   "cell_type": "code",
   "execution_count": 343,
   "metadata": {},
   "outputs": [],
   "source": [
    "from scipy.io import loadmat\n",
    "import pandas as pd\n",
    "import numpy as np\n",
    "import matplotlib.pyplot as plt \n",
    "import seaborn as sns\n",
    "sns.set_style('darkgrid')\n",
    "\n",
    "from sklearn.naive_bayes import GaussianNB\n",
    "from sklearn.preprocessing import StandardScaler  \n",
    "from sklearn.metrics import accuracy_score\n",
    "from sklearn.metrics import confusion_matrix  \n",
    "\n",
    "import os "
   ]
  },
  {
   "cell_type": "code",
   "execution_count": 344,
   "metadata": {},
   "outputs": [],
   "source": [
    "train0 = scipy.io.loadmat('digit0_stu_train5603')['target_img']\n",
    "train1 = scipy.io.loadmat('digit1_stu_train5603')['target_img']\n",
    "test0 = scipy.io.loadmat('digit0_testset')['target_img']\n",
    "test1 = scipy.io.loadmat('digit1_testset')['target_img']"
   ]
  },
  {
   "cell_type": "code",
   "execution_count": 345,
   "metadata": {},
   "outputs": [
    {
     "name": "stdout",
     "output_type": "stream",
     "text": [
      "size of train0: 5000\n",
      "size of train1: 5000\n",
      "size of test0: 980\n",
      "size of test1: 1135\n"
     ]
    }
   ],
   "source": [
    "print(f'size of train0: {len(train0)}')\n",
    "print(f'size of train1: {len(train1)}')\n",
    "print(f'size of test0: {len(test0)}')\n",
    "print(f'size of test1: {len(test1)}')\n",
    "\n",
    "#train0 = np.moveaxis(train0,[0,1,2],[2,1,0])\n",
    "#train1 = np.moveaxis(train0,[0,1,2],[2,1,0])\n",
    "\n",
    "train_tup = (train0,train1)\n"
   ]
  },
  {
   "cell_type": "code",
   "execution_count": 346,
   "metadata": {},
   "outputs": [
    {
     "data": {
      "text/plain": [
       "26355"
      ]
     },
     "execution_count": 346,
     "metadata": {},
     "output_type": "execute_result"
    }
   ],
   "source": [
    "np.sum(train0[0].flatten())"
   ]
  },
  {
   "cell_type": "code",
   "execution_count": 347,
   "metadata": {},
   "outputs": [],
   "source": [
    "def make_df(dataset,target):\n",
    "    mean = []\n",
    "    std = []\n",
    "    values = []\n",
    "    for row in dataset:\n",
    "        mean.append(np.mean(row))\n",
    "        std.append(np.std(row))\n",
    "        values.append(row.flatten())\n",
    "    df = pd.DataFrame()\n",
    "    df['values'] = values\n",
    "    df['f1'] = mean\n",
    "    df['mf1'] = np.mean(mean)\n",
    "    df['vf1'] = np.var(mean)\n",
    "\n",
    "    df['f2'] = std\n",
    "    df['mf2'] = np.mean(std)\n",
    "    df['vf2'] = np.var(std)\n",
    "\n",
    "    df['target'] = target\n",
    "    return df"
   ]
  },
  {
   "cell_type": "code",
   "execution_count": 348,
   "metadata": {},
   "outputs": [],
   "source": [
    "df_train = pd.concat([make_df(train0,0),make_df(train1,1)], axis = 0, ignore_index= True)\n",
    "df_test = pd.concat([make_df(test0,0),make_df(test1,1)], axis = 0, ignore_index= True)"
   ]
  },
  {
   "cell_type": "code",
   "execution_count": 349,
   "metadata": {},
   "outputs": [
    {
     "data": {
      "text/html": [
       "<div>\n",
       "<style scoped>\n",
       "    .dataframe tbody tr th:only-of-type {\n",
       "        vertical-align: middle;\n",
       "    }\n",
       "\n",
       "    .dataframe tbody tr th {\n",
       "        vertical-align: top;\n",
       "    }\n",
       "\n",
       "    .dataframe thead th {\n",
       "        text-align: right;\n",
       "    }\n",
       "</style>\n",
       "<table border=\"1\" class=\"dataframe\">\n",
       "  <thead>\n",
       "    <tr style=\"text-align: right;\">\n",
       "      <th></th>\n",
       "      <th>values</th>\n",
       "      <th>f1</th>\n",
       "      <th>mf1</th>\n",
       "      <th>vf1</th>\n",
       "      <th>f2</th>\n",
       "      <th>mf2</th>\n",
       "      <th>vf2</th>\n",
       "      <th>target</th>\n",
       "    </tr>\n",
       "  </thead>\n",
       "  <tbody>\n",
       "    <tr>\n",
       "      <th>0</th>\n",
       "      <td>[0, 0, 0, 0, 0, 0, 0, 0, 0, 0, 0, 0, 0, 0, 0, ...</td>\n",
       "      <td>33.616071</td>\n",
       "      <td>44.191021</td>\n",
       "      <td>115.445994</td>\n",
       "      <td>77.445500</td>\n",
       "      <td>87.416089</td>\n",
       "      <td>102.401842</td>\n",
       "      <td>0</td>\n",
       "    </tr>\n",
       "    <tr>\n",
       "      <th>1</th>\n",
       "      <td>[0, 0, 0, 0, 0, 0, 0, 0, 0, 0, 0, 0, 0, 0, 0, ...</td>\n",
       "      <td>54.266582</td>\n",
       "      <td>44.191021</td>\n",
       "      <td>115.445994</td>\n",
       "      <td>96.788925</td>\n",
       "      <td>87.416089</td>\n",
       "      <td>102.401842</td>\n",
       "      <td>0</td>\n",
       "    </tr>\n",
       "    <tr>\n",
       "      <th>2</th>\n",
       "      <td>[0, 0, 0, 0, 0, 0, 0, 0, 0, 0, 0, 0, 0, 0, 0, ...</td>\n",
       "      <td>29.294643</td>\n",
       "      <td>44.191021</td>\n",
       "      <td>115.445994</td>\n",
       "      <td>71.309391</td>\n",
       "      <td>87.416089</td>\n",
       "      <td>102.401842</td>\n",
       "      <td>0</td>\n",
       "    </tr>\n",
       "    <tr>\n",
       "      <th>3</th>\n",
       "      <td>[0, 0, 0, 0, 0, 0, 0, 0, 0, 0, 0, 0, 0, 0, 0, ...</td>\n",
       "      <td>17.382653</td>\n",
       "      <td>44.191021</td>\n",
       "      <td>115.445994</td>\n",
       "      <td>53.650171</td>\n",
       "      <td>87.416089</td>\n",
       "      <td>102.401842</td>\n",
       "      <td>0</td>\n",
       "    </tr>\n",
       "    <tr>\n",
       "      <th>4</th>\n",
       "      <td>[0, 0, 0, 0, 0, 0, 0, 0, 0, 0, 0, 0, 0, 0, 0, ...</td>\n",
       "      <td>54.883929</td>\n",
       "      <td>44.191021</td>\n",
       "      <td>115.445994</td>\n",
       "      <td>99.269336</td>\n",
       "      <td>87.416089</td>\n",
       "      <td>102.401842</td>\n",
       "      <td>0</td>\n",
       "    </tr>\n",
       "    <tr>\n",
       "      <th>...</th>\n",
       "      <td>...</td>\n",
       "      <td>...</td>\n",
       "      <td>...</td>\n",
       "      <td>...</td>\n",
       "      <td>...</td>\n",
       "      <td>...</td>\n",
       "      <td>...</td>\n",
       "      <td>...</td>\n",
       "    </tr>\n",
       "    <tr>\n",
       "      <th>9995</th>\n",
       "      <td>[0, 0, 0, 0, 0, 0, 0, 0, 0, 0, 0, 0, 0, 0, 0, ...</td>\n",
       "      <td>22.955357</td>\n",
       "      <td>19.343453</td>\n",
       "      <td>31.841028</td>\n",
       "      <td>67.050882</td>\n",
       "      <td>61.294237</td>\n",
       "      <td>83.744865</td>\n",
       "      <td>1</td>\n",
       "    </tr>\n",
       "    <tr>\n",
       "      <th>9996</th>\n",
       "      <td>[0, 0, 0, 0, 0, 0, 0, 0, 0, 0, 0, 0, 0, 0, 0, ...</td>\n",
       "      <td>23.348214</td>\n",
       "      <td>19.343453</td>\n",
       "      <td>31.841028</td>\n",
       "      <td>67.941413</td>\n",
       "      <td>61.294237</td>\n",
       "      <td>83.744865</td>\n",
       "      <td>1</td>\n",
       "    </tr>\n",
       "    <tr>\n",
       "      <th>9997</th>\n",
       "      <td>[0, 0, 0, 0, 0, 0, 0, 0, 0, 0, 0, 0, 0, 0, 0, ...</td>\n",
       "      <td>26.473214</td>\n",
       "      <td>19.343453</td>\n",
       "      <td>31.841028</td>\n",
       "      <td>72.054290</td>\n",
       "      <td>61.294237</td>\n",
       "      <td>83.744865</td>\n",
       "      <td>1</td>\n",
       "    </tr>\n",
       "    <tr>\n",
       "      <th>9998</th>\n",
       "      <td>[0, 0, 0, 0, 0, 0, 0, 0, 0, 0, 0, 0, 0, 0, 0, ...</td>\n",
       "      <td>21.391582</td>\n",
       "      <td>19.343453</td>\n",
       "      <td>31.841028</td>\n",
       "      <td>65.125044</td>\n",
       "      <td>61.294237</td>\n",
       "      <td>83.744865</td>\n",
       "      <td>1</td>\n",
       "    </tr>\n",
       "    <tr>\n",
       "      <th>9999</th>\n",
       "      <td>[0, 0, 0, 0, 0, 0, 0, 0, 0, 0, 0, 0, 0, 0, 0, ...</td>\n",
       "      <td>16.881378</td>\n",
       "      <td>19.343453</td>\n",
       "      <td>31.841028</td>\n",
       "      <td>56.822158</td>\n",
       "      <td>61.294237</td>\n",
       "      <td>83.744865</td>\n",
       "      <td>1</td>\n",
       "    </tr>\n",
       "  </tbody>\n",
       "</table>\n",
       "<p>10000 rows × 8 columns</p>\n",
       "</div>"
      ],
      "text/plain": [
       "                                                 values         f1        mf1  \\\n",
       "0     [0, 0, 0, 0, 0, 0, 0, 0, 0, 0, 0, 0, 0, 0, 0, ...  33.616071  44.191021   \n",
       "1     [0, 0, 0, 0, 0, 0, 0, 0, 0, 0, 0, 0, 0, 0, 0, ...  54.266582  44.191021   \n",
       "2     [0, 0, 0, 0, 0, 0, 0, 0, 0, 0, 0, 0, 0, 0, 0, ...  29.294643  44.191021   \n",
       "3     [0, 0, 0, 0, 0, 0, 0, 0, 0, 0, 0, 0, 0, 0, 0, ...  17.382653  44.191021   \n",
       "4     [0, 0, 0, 0, 0, 0, 0, 0, 0, 0, 0, 0, 0, 0, 0, ...  54.883929  44.191021   \n",
       "...                                                 ...        ...        ...   \n",
       "9995  [0, 0, 0, 0, 0, 0, 0, 0, 0, 0, 0, 0, 0, 0, 0, ...  22.955357  19.343453   \n",
       "9996  [0, 0, 0, 0, 0, 0, 0, 0, 0, 0, 0, 0, 0, 0, 0, ...  23.348214  19.343453   \n",
       "9997  [0, 0, 0, 0, 0, 0, 0, 0, 0, 0, 0, 0, 0, 0, 0, ...  26.473214  19.343453   \n",
       "9998  [0, 0, 0, 0, 0, 0, 0, 0, 0, 0, 0, 0, 0, 0, 0, ...  21.391582  19.343453   \n",
       "9999  [0, 0, 0, 0, 0, 0, 0, 0, 0, 0, 0, 0, 0, 0, 0, ...  16.881378  19.343453   \n",
       "\n",
       "             vf1         f2        mf2         vf2  target  \n",
       "0     115.445994  77.445500  87.416089  102.401842       0  \n",
       "1     115.445994  96.788925  87.416089  102.401842       0  \n",
       "2     115.445994  71.309391  87.416089  102.401842       0  \n",
       "3     115.445994  53.650171  87.416089  102.401842       0  \n",
       "4     115.445994  99.269336  87.416089  102.401842       0  \n",
       "...          ...        ...        ...         ...     ...  \n",
       "9995   31.841028  67.050882  61.294237   83.744865       1  \n",
       "9996   31.841028  67.941413  61.294237   83.744865       1  \n",
       "9997   31.841028  72.054290  61.294237   83.744865       1  \n",
       "9998   31.841028  65.125044  61.294237   83.744865       1  \n",
       "9999   31.841028  56.822158  61.294237   83.744865       1  \n",
       "\n",
       "[10000 rows x 8 columns]"
      ]
     },
     "execution_count": 349,
     "metadata": {},
     "output_type": "execute_result"
    }
   ],
   "source": [
    "df_train"
   ]
  },
  {
   "cell_type": "code",
   "execution_count": 350,
   "metadata": {},
   "outputs": [
    {
     "data": {
      "image/png": "[encoded data removed]",
      "text/plain": [
       "<Figure size 1152x864 with 4 Axes>"
      ]
     },
     "metadata": {},
     "output_type": "display_data"
    }
   ],
   "source": [
    "fig , ax  = plt.subplots(nrows = 2, ncols = 2, figsize = (16,12))\n",
    "plot = sns.histplot(data = df_train, x = 'f1', hue = 'target', kde = True, element = 'step', ax = ax[0,0])\n",
    "plot.set(title = 'Mean Value Distribution per Target Variable of Training Dataset')\n",
    "\n",
    "plot = sns.histplot(data = df_train, x = 'f2', hue = 'target', kde = True, element = 'step', ax = ax[0,1])\n",
    "plot.set(title = 'Standard Deviation Value Distribution per Target Variable of Training Dataset')\n",
    "\n",
    "plot = sns.histplot(data = df_test, x = 'f1', hue = 'target', kde = True, element = 'step', ax = ax[1,0])\n",
    "plot.set(title = 'Mean Value Distribution per Target Variable of Test Dataset')\n",
    "\n",
    "plot = sns.histplot(data = df_test, x = 'f2', hue = 'target', kde = True, element = 'step', ax = ax[1,1])\n",
    "plot.set(title = 'Standard Deviation Value Distribution per Target Variable of Test Dataset')\n",
    "\n",
    "\n",
    "plt.show()\n",
    "plt.close()"
   ]
  },
  {
   "cell_type": "markdown",
   "metadata": {},
   "source": [
    "# Task 1:\n",
    "#### Extract the following two features for each image:\n",
    "\n",
    "- Feature1: The average brightness of each image (average all pixel brightness values within a whole image array)\n",
    "- Feature2: The standard deviation of the brightness of each image (standard deviation of all pixel brightness values within a whole image array)\n"
   ]
  },
  {
   "cell_type": "code",
   "execution_count": 351,
   "metadata": {},
   "outputs": [],
   "source": [
    "f1_0 = df_train[df_train['target'] == 0]['f1']\n",
    "f1_1 = df_train[df_train['target'] == 1]['f1']\n",
    "\n",
    "f2_0 = df_train[df_train['target'] == 0]['f2']\n",
    "f2_1 = df_train[df_train['target'] == 1]['f2']\n",
    "\n",
    "f1_0_t = df_test[df_test['target'] == 0]['f1']\n",
    "f1_1_t = df_test[df_test['target'] == 1]['f1']\n",
    "\n",
    "f2_0_t = df_test[df_test['target'] == 0]['f2']\n",
    "f2_1_t = df_test[df_test['target'] == 1]['f2']\n",
    "\n"
   ]
  },
  {
   "cell_type": "code",
   "execution_count": 352,
   "metadata": {},
   "outputs": [
    {
     "name": "stdout",
     "output_type": "stream",
     "text": [
      "feature 1 (mean) of digit 0 training data\n"
     ]
    },
    {
     "data": {
      "text/plain": [
       "0       33.616071\n",
       "1       54.266582\n",
       "2       29.294643\n",
       "3       17.382653\n",
       "4       54.883929\n",
       "          ...    \n",
       "4995    27.715561\n",
       "4996    54.190051\n",
       "4997    44.278061\n",
       "4998    47.176020\n",
       "4999    42.238520\n",
       "Name: f1, Length: 5000, dtype: float64"
      ]
     },
     "execution_count": 352,
     "metadata": {},
     "output_type": "execute_result"
    }
   ],
   "source": [
    "print('feature 1 (mean) of digit 0 training data')\n",
    "f1_0"
   ]
  },
  {
   "cell_type": "code",
   "execution_count": 353,
   "metadata": {},
   "outputs": [
    {
     "name": "stdout",
     "output_type": "stream",
     "text": [
      "feature 1 (mean) of digit 1 training data\n"
     ]
    },
    {
     "data": {
      "text/plain": [
       "5000    19.081633\n",
       "5001    14.798469\n",
       "5002    17.650510\n",
       "5003    19.779337\n",
       "5004    11.651786\n",
       "          ...    \n",
       "9995    22.955357\n",
       "9996    23.348214\n",
       "9997    26.473214\n",
       "9998    21.391582\n",
       "9999    16.881378\n",
       "Name: f1, Length: 5000, dtype: float64"
      ]
     },
     "execution_count": 353,
     "metadata": {},
     "output_type": "execute_result"
    }
   ],
   "source": [
    "print('feature 1 (mean) of digit 1 training data')\n",
    "\n",
    "f1_1"
   ]
  },
  {
   "cell_type": "code",
   "execution_count": 354,
   "metadata": {},
   "outputs": [
    {
     "name": "stdout",
     "output_type": "stream",
     "text": [
      "feature 1 (std) of digit 0 training data\n"
     ]
    },
    {
     "data": {
      "text/plain": [
       "0       77.445500\n",
       "1       96.788925\n",
       "2       71.309391\n",
       "3       53.650171\n",
       "4       99.269336\n",
       "          ...    \n",
       "4995    70.131105\n",
       "4996    99.161039\n",
       "4997    89.491829\n",
       "4998    92.475450\n",
       "4999    87.262012\n",
       "Name: f2, Length: 5000, dtype: float64"
      ]
     },
     "execution_count": 354,
     "metadata": {},
     "output_type": "execute_result"
    }
   ],
   "source": [
    "print('feature 1 (std) of digit 0 training data')\n",
    "\n",
    "f2_0"
   ]
  },
  {
   "cell_type": "code",
   "execution_count": 355,
   "metadata": {},
   "outputs": [
    {
     "name": "stdout",
     "output_type": "stream",
     "text": [
      "feature 1 (std) of digit 1 training data\n"
     ]
    },
    {
     "data": {
      "text/plain": [
       "5000    62.299114\n",
       "5001    54.135273\n",
       "5002    58.482077\n",
       "5003    61.254475\n",
       "5004    46.829613\n",
       "          ...    \n",
       "9995    67.050882\n",
       "9996    67.941413\n",
       "9997    72.054290\n",
       "9998    65.125044\n",
       "9999    56.822158\n",
       "Name: f2, Length: 5000, dtype: float64"
      ]
     },
     "execution_count": 355,
     "metadata": {},
     "output_type": "execute_result"
    }
   ],
   "source": [
    "print('feature 1 (std) of digit 1 training data')\n",
    "\n",
    "f2_1"
   ]
  },
  {
   "cell_type": "markdown",
   "metadata": {},
   "source": [
    "# Task 2:\n",
    "\n",
    "#### You need to calculate all the parameters for the two-class naive bayes classifiers respectively, based upon the 2-D data points you generated in Task 1:\n",
    "\n",
    "1. Mean of feature1 for digit0\n",
    "2. Variance of feature1 for digit0\n",
    "3. Mean of feature2 for digit0\n",
    "4. Variance of feature2 for digit0\n",
    "5. Mean of feature1 for digit1\n",
    "6. Variance of feature1 for digit1\n",
    "7. Mean of feature2 for digit1\n",
    "8. Variance of feature2 for digit1"
   ]
  },
  {
   "cell_type": "markdown",
   "metadata": {},
   "source": [
    "- Feature 1 is the average\n",
    "\n",
    "- Feature 2 is the standard deviation"
   ]
  },
  {
   "cell_type": "code",
   "execution_count": 356,
   "metadata": {},
   "outputs": [],
   "source": [
    "# task 1 \n",
    "d0_mean_of_mean = df_train.iloc[0]['mf1']\n",
    "# task 2\n",
    "d0_var_of_mean = df_train.iloc[0]['vf1']\n",
    "# task 3\n",
    "d0_mean_of_std = df_train.iloc[0]['mf2']\n",
    "# task 4\n",
    "d0_var_of_std = df_train.iloc[0]['vf2']\n",
    "\n",
    "\n",
    "# task 5 \n",
    "d1_mean_of_mean = df_train.iloc[-1]['mf1']\n",
    "# task 6\n",
    "d1_var_of_mean = df_train.iloc[-1]['vf1']\n",
    "# task 7 \n",
    "d1_mean_of_std = df_train.iloc[-1]['mf2']\n",
    "# task 8\n",
    "d1_var_of_std = df_train.iloc[-1]['vf2']\n",
    "\n",
    "\n",
    "d0_mean_of_mean_t = df_test.iloc[0]['mf1']\n",
    "d0_var_of_mean_t = df_test.iloc[0]['vf1']\n",
    "d0_mean_of_std_t = df_test.iloc[0]['mf2']\n",
    "d0_var_of_std_t = df_test.iloc[0]['vf2']\n",
    "\n",
    "\n",
    "d1_mean_of_mean_t = df_test.iloc[-1]['mf1']\n",
    "d1_var_of_mean_t = df_test.iloc[-1]['vf1']\n",
    "d1_mean_of_std_t = df_test.iloc[-1]['mf2']\n",
    "d1_var_of_std_t = df_test.iloc[-1]['vf2']"
   ]
  },
  {
   "cell_type": "code",
   "execution_count": 357,
   "metadata": {},
   "outputs": [
    {
     "data": {
      "text/html": [
       "<div>\n",
       "<style scoped>\n",
       "    .dataframe tbody tr th:only-of-type {\n",
       "        vertical-align: middle;\n",
       "    }\n",
       "\n",
       "    .dataframe tbody tr th {\n",
       "        vertical-align: top;\n",
       "    }\n",
       "\n",
       "    .dataframe thead th {\n",
       "        text-align: right;\n",
       "    }\n",
       "</style>\n",
       "<table border=\"1\" class=\"dataframe\">\n",
       "  <thead>\n",
       "    <tr style=\"text-align: right;\">\n",
       "      <th></th>\n",
       "      <th>values</th>\n",
       "      <th>f1</th>\n",
       "      <th>mf1</th>\n",
       "      <th>vf1</th>\n",
       "      <th>f2</th>\n",
       "      <th>mf2</th>\n",
       "      <th>vf2</th>\n",
       "      <th>target</th>\n",
       "    </tr>\n",
       "  </thead>\n",
       "  <tbody>\n",
       "    <tr>\n",
       "      <th>0</th>\n",
       "      <td>[0, 0, 0, 0, 0, 0, 0, 0, 0, 0, 0, 0, 0, 0, 0, ...</td>\n",
       "      <td>47.211735</td>\n",
       "      <td>43.939139</td>\n",
       "      <td>123.180021</td>\n",
       "      <td>92.404024</td>\n",
       "      <td>87.185777</td>\n",
       "      <td>106.462851</td>\n",
       "      <td>0</td>\n",
       "    </tr>\n",
       "    <tr>\n",
       "      <th>1</th>\n",
       "      <td>[0, 0, 0, 0, 0, 0, 0, 0, 0, 0, 0, 0, 0, 0, 0, ...</td>\n",
       "      <td>37.960459</td>\n",
       "      <td>43.939139</td>\n",
       "      <td>123.180021</td>\n",
       "      <td>81.635543</td>\n",
       "      <td>87.185777</td>\n",
       "      <td>106.462851</td>\n",
       "      <td>0</td>\n",
       "    </tr>\n",
       "    <tr>\n",
       "      <th>2</th>\n",
       "      <td>[0, 0, 0, 0, 0, 0, 0, 0, 0, 0, 0, 0, 0, 0, 0, ...</td>\n",
       "      <td>37.508929</td>\n",
       "      <td>43.939139</td>\n",
       "      <td>123.180021</td>\n",
       "      <td>81.886587</td>\n",
       "      <td>87.185777</td>\n",
       "      <td>106.462851</td>\n",
       "      <td>0</td>\n",
       "    </tr>\n",
       "    <tr>\n",
       "      <th>3</th>\n",
       "      <td>[0, 0, 0, 0, 0, 0, 0, 0, 0, 0, 0, 0, 0, 0, 0, ...</td>\n",
       "      <td>67.417092</td>\n",
       "      <td>43.939139</td>\n",
       "      <td>123.180021</td>\n",
       "      <td>105.642764</td>\n",
       "      <td>87.185777</td>\n",
       "      <td>106.462851</td>\n",
       "      <td>0</td>\n",
       "    </tr>\n",
       "    <tr>\n",
       "      <th>4</th>\n",
       "      <td>[0, 0, 0, 0, 0, 0, 0, 0, 0, 0, 0, 0, 0, 0, 0, ...</td>\n",
       "      <td>43.903061</td>\n",
       "      <td>43.939139</td>\n",
       "      <td>123.180021</td>\n",
       "      <td>88.897417</td>\n",
       "      <td>87.185777</td>\n",
       "      <td>106.462851</td>\n",
       "      <td>0</td>\n",
       "    </tr>\n",
       "    <tr>\n",
       "      <th>...</th>\n",
       "      <td>...</td>\n",
       "      <td>...</td>\n",
       "      <td>...</td>\n",
       "      <td>...</td>\n",
       "      <td>...</td>\n",
       "      <td>...</td>\n",
       "      <td>...</td>\n",
       "      <td>...</td>\n",
       "    </tr>\n",
       "    <tr>\n",
       "      <th>2110</th>\n",
       "      <td>[0, 0, 0, 0, 0, 0, 0, 0, 0, 0, 0, 0, 0, 0, 0, ...</td>\n",
       "      <td>18.743622</td>\n",
       "      <td>19.568063</td>\n",
       "      <td>34.882007</td>\n",
       "      <td>60.656669</td>\n",
       "      <td>61.671272</td>\n",
       "      <td>90.251246</td>\n",
       "      <td>1</td>\n",
       "    </tr>\n",
       "    <tr>\n",
       "      <th>2111</th>\n",
       "      <td>[0, 0, 0, 0, 0, 0, 0, 0, 0, 0, 0, 0, 0, 0, 0, ...</td>\n",
       "      <td>17.868622</td>\n",
       "      <td>19.568063</td>\n",
       "      <td>34.882007</td>\n",
       "      <td>58.279143</td>\n",
       "      <td>61.671272</td>\n",
       "      <td>90.251246</td>\n",
       "      <td>1</td>\n",
       "    </tr>\n",
       "    <tr>\n",
       "      <th>2112</th>\n",
       "      <td>[0, 0, 0, 0, 0, 0, 0, 0, 0, 0, 0, 0, 0, 0, 0, ...</td>\n",
       "      <td>21.605867</td>\n",
       "      <td>19.568063</td>\n",
       "      <td>34.882007</td>\n",
       "      <td>65.155203</td>\n",
       "      <td>61.671272</td>\n",
       "      <td>90.251246</td>\n",
       "      <td>1</td>\n",
       "    </tr>\n",
       "    <tr>\n",
       "      <th>2113</th>\n",
       "      <td>[0, 0, 0, 0, 0, 0, 0, 0, 0, 0, 0, 0, 0, 0, 0, ...</td>\n",
       "      <td>22.035714</td>\n",
       "      <td>19.568063</td>\n",
       "      <td>34.882007</td>\n",
       "      <td>67.283620</td>\n",
       "      <td>61.671272</td>\n",
       "      <td>90.251246</td>\n",
       "      <td>1</td>\n",
       "    </tr>\n",
       "    <tr>\n",
       "      <th>2114</th>\n",
       "      <td>[0, 0, 0, 0, 0, 0, 0, 0, 0, 0, 0, 0, 0, 0, 0, ...</td>\n",
       "      <td>21.988520</td>\n",
       "      <td>19.568063</td>\n",
       "      <td>34.882007</td>\n",
       "      <td>66.447778</td>\n",
       "      <td>61.671272</td>\n",
       "      <td>90.251246</td>\n",
       "      <td>1</td>\n",
       "    </tr>\n",
       "  </tbody>\n",
       "</table>\n",
       "<p>2115 rows × 8 columns</p>\n",
       "</div>"
      ],
      "text/plain": [
       "                                                 values         f1        mf1  \\\n",
       "0     [0, 0, 0, 0, 0, 0, 0, 0, 0, 0, 0, 0, 0, 0, 0, ...  47.211735  43.939139   \n",
       "1     [0, 0, 0, 0, 0, 0, 0, 0, 0, 0, 0, 0, 0, 0, 0, ...  37.960459  43.939139   \n",
       "2     [0, 0, 0, 0, 0, 0, 0, 0, 0, 0, 0, 0, 0, 0, 0, ...  37.508929  43.939139   \n",
       "3     [0, 0, 0, 0, 0, 0, 0, 0, 0, 0, 0, 0, 0, 0, 0, ...  67.417092  43.939139   \n",
       "4     [0, 0, 0, 0, 0, 0, 0, 0, 0, 0, 0, 0, 0, 0, 0, ...  43.903061  43.939139   \n",
       "...                                                 ...        ...        ...   \n",
       "2110  [0, 0, 0, 0, 0, 0, 0, 0, 0, 0, 0, 0, 0, 0, 0, ...  18.743622  19.568063   \n",
       "2111  [0, 0, 0, 0, 0, 0, 0, 0, 0, 0, 0, 0, 0, 0, 0, ...  17.868622  19.568063   \n",
       "2112  [0, 0, 0, 0, 0, 0, 0, 0, 0, 0, 0, 0, 0, 0, 0, ...  21.605867  19.568063   \n",
       "2113  [0, 0, 0, 0, 0, 0, 0, 0, 0, 0, 0, 0, 0, 0, 0, ...  22.035714  19.568063   \n",
       "2114  [0, 0, 0, 0, 0, 0, 0, 0, 0, 0, 0, 0, 0, 0, 0, ...  21.988520  19.568063   \n",
       "\n",
       "             vf1          f2        mf2         vf2  target  \n",
       "0     123.180021   92.404024  87.185777  106.462851       0  \n",
       "1     123.180021   81.635543  87.185777  106.462851       0  \n",
       "2     123.180021   81.886587  87.185777  106.462851       0  \n",
       "3     123.180021  105.642764  87.185777  106.462851       0  \n",
       "4     123.180021   88.897417  87.185777  106.462851       0  \n",
       "...          ...         ...        ...         ...     ...  \n",
       "2110   34.882007   60.656669  61.671272   90.251246       1  \n",
       "2111   34.882007   58.279143  61.671272   90.251246       1  \n",
       "2112   34.882007   65.155203  61.671272   90.251246       1  \n",
       "2113   34.882007   67.283620  61.671272   90.251246       1  \n",
       "2114   34.882007   66.447778  61.671272   90.251246       1  \n",
       "\n",
       "[2115 rows x 8 columns]"
      ]
     },
     "execution_count": 357,
     "metadata": {},
     "output_type": "execute_result"
    }
   ],
   "source": [
    "df_test"
   ]
  },
  {
   "cell_type": "code",
   "execution_count": 358,
   "metadata": {},
   "outputs": [
    {
     "name": "stdout",
     "output_type": "stream",
     "text": [
      "digit 0 mean of mean values: 44.19102091836735\n",
      "digit 0 var of mean values: 115.44599432624402\n",
      "digit 0 mean of std values: 87.41608865559716\n",
      "digit 0 var of std values: 102.40184247193528\n"
     ]
    }
   ],
   "source": [
    "print(f'digit 0 mean of mean values: {d0_mean_of_mean}')\n",
    "print(f'digit 0 var of mean values: {d0_var_of_mean}')\n",
    "print(f'digit 0 mean of std values: {d0_mean_of_std}')\n",
    "print(f'digit 0 var of std values: {d0_var_of_std}')"
   ]
  },
  {
   "cell_type": "code",
   "execution_count": 359,
   "metadata": {},
   "outputs": [
    {
     "name": "stdout",
     "output_type": "stream",
     "text": [
      "digit 1 mean of mean values: 19.34345306122449\n",
      "digit 1 var of mean values: 31.84102803682736\n",
      "digit 1 mean of std values: 61.29423730299885\n",
      "digit 1 var of std values: 83.74486499340965\n"
     ]
    }
   ],
   "source": [
    "print(f'digit 1 mean of mean values: {d1_mean_of_mean}')\n",
    "print(f'digit 1 var of mean values: {d1_var_of_mean}')\n",
    "print(f'digit 1 mean of std values: {d1_mean_of_std}')\n",
    "print(f'digit 1 var of std values: {d1_var_of_std}')"
   ]
  },
  {
   "cell_type": "markdown",
   "metadata": {},
   "source": [
    "# Bayes Classification"
   ]
  },
  {
   "cell_type": "code",
   "execution_count": 368,
   "metadata": {},
   "outputs": [],
   "source": [
    "# gets P(Y/total) = P(Y)\n",
    "# y is target column\n",
    "def calculate_prior(df,y,value):\n",
    "    prior = (len(df[df[y] == value])/len(df))\n",
    "    return prior"
   ]
  },
  {
   "cell_type": "code",
   "execution_count": 361,
   "metadata": {},
   "outputs": [],
   "source": [
    "# gets P(X|Y)\n",
    "# parameters are df=df_train, feat_name=['mean','std'],\n"
   ]
  },
  {
   "cell_type": "code",
   "execution_count": 362,
   "metadata": {},
   "outputs": [],
   "source": [
    "# computes the Naive Bayes prediction per sample.\n",
    "# gets P(X|Y)\n",
    "def naive_bayes_calc(x, mean, std):\n",
    "    return (1 / (std * np.sqrt(2 * np.pi))) * np.exp(-((x - mean) ** 2 / (2 * std**2)))"
   ]
  },
  {
   "cell_type": "code",
   "execution_count": 363,
   "metadata": {},
   "outputs": [],
   "source": [
    "def compute_likelihood(df_train,df_test,target):\n",
    "    \n",
    "    df_test = df_test.query(\"target == \"+str(target)).reset_index()\n",
    "    feature_1 = df_test['f1']\n",
    "    mean_f01 = df_train.query(\"target == 0\").mf1.unique()[0] \n",
    "    var_f01 = df_train.query(\"target == 0\").vf1.unique()[0] \n",
    "    mean_f11 = df_train.query(\"target == 1\").mf1.unique()[0] \n",
    "    var_f11 = df_train.query(\"target == 1\").vf1.unique()[0] \n",
    "    \n",
    "    \n",
    "    feature_2 = df_test['f2']\n",
    "    mean_f02 = df_train.query(\"target == 0\").mf2.unique()[0] \n",
    "    var_f02 = df_train.query(\"target == 0\").vf2.unique()[0] \n",
    "    mean_f12 = df_train.query(\"target == 1\").mf2.unique()[0] \n",
    "    var_f12 = df_train.query(\"target == 1\").vf2.unique()[0]\n",
    "\n",
    "    iter_size = len(df_test.f1)\n",
    "\n",
    "    naive_bayes_prob_f1_0 = []\n",
    "    naive_bayes_prob_f2_0 = []\n",
    "\n",
    "    for x in range(iter_size):\n",
    "        naive_bayes_prob_f1_0.append(naive_bayes_calc(feature_1[x],mean_f01,np.sqrt(var_f01)))\n",
    "        naive_bayes_prob_f2_0.append(naive_bayes_calc(feature_2[x],mean_f02,np.sqrt(var_f02)))\n",
    "\n",
    "    x_given_y0 = np.array(naive_bayes_prob_f1_0)*np.array(naive_bayes_prob_f2_0)\n",
    "\n",
    "    \n",
    "    naive_bayes_prob_f1_1 = []\n",
    "    naive_bayes_prob_f2_1 = []\n",
    "\n",
    "    for x in range(iter_size):\n",
    "        naive_bayes_prob_f1_1.append(naive_bayes_calc(feature_1[x],mean_f11,np.sqrt(var_f11)))\n",
    "        naive_bayes_prob_f2_1.append(naive_bayes_calc(feature_2[x],mean_f12,np.sqrt(var_f12)))\n",
    "       \n",
    "    x_given_y1 = np.array(naive_bayes_prob_f1_1)*np.array(naive_bayes_prob_f2_1)\n",
    "\n",
    "    return x_given_y0,x_given_y1"
   ]
  },
  {
   "cell_type": "code",
   "execution_count": 369,
   "metadata": {},
   "outputs": [],
   "source": [
    "prior_train_0 = calculate_prior(df_train,'target',0)\n",
    "prior_train_1 = calculate_prior(df_train,'target',1)\n",
    "\n",
    "prob_x_given_y0 = compute_likelihood(df_train,df_test,0)\n",
    "prob_x_given_y1 = compute_likelihood(df_train,df_test,1)\n",
    "\n",
    "probability_y00 = prob_x_given_y0[0] * prior_train_0\n",
    "probability_y01 = prob_x_given_y0[1] * prior_train_1\n",
    "\n",
    "probability_y10 = prob_x_given_y1[0] * prior_train_0\n",
    "probability_y11 = prob_x_given_y1[1] * prior_train_1"
   ]
  },
  {
   "cell_type": "code",
   "execution_count": 370,
   "metadata": {},
   "outputs": [
    {
     "name": "stderr",
     "output_type": "stream",
     "text": [
      "/var/folders/fh/j80_xmgd0t94glsz9_cgt37w0000gn/T/ipykernel_8854/397118536.py:1: SettingWithCopyWarning: \n",
      "A value is trying to be set on a copy of a slice from a DataFrame.\n",
      "Try using .loc[row_indexer,col_indexer] = value instead\n",
      "\n",
      "See the caveats in the documentation: https://pandas.pydata.org/pandas-docs/stable/user_guide/indexing.html#returning-a-view-versus-a-copy\n",
      "  df_test.query('target == 0')['prob_0'] = np.array(probability_y00)\n",
      "/var/folders/fh/j80_xmgd0t94glsz9_cgt37w0000gn/T/ipykernel_8854/397118536.py:2: SettingWithCopyWarning: \n",
      "A value is trying to be set on a copy of a slice from a DataFrame.\n",
      "Try using .loc[row_indexer,col_indexer] = value instead\n",
      "\n",
      "See the caveats in the documentation: https://pandas.pydata.org/pandas-docs/stable/user_guide/indexing.html#returning-a-view-versus-a-copy\n",
      "  df_test.query('target == 0')['prob_1'] = np.array(probability_y01)\n",
      "/var/folders/fh/j80_xmgd0t94glsz9_cgt37w0000gn/T/ipykernel_8854/397118536.py:3: SettingWithCopyWarning: \n",
      "A value is trying to be set on a copy of a slice from a DataFrame.\n",
      "Try using .loc[row_indexer,col_indexer] = value instead\n",
      "\n",
      "See the caveats in the documentation: https://pandas.pydata.org/pandas-docs/stable/user_guide/indexing.html#returning-a-view-versus-a-copy\n",
      "  df_test.query('target == 1')['prob_0'] = np.array(probability_y10)\n",
      "/var/folders/fh/j80_xmgd0t94glsz9_cgt37w0000gn/T/ipykernel_8854/397118536.py:4: SettingWithCopyWarning: \n",
      "A value is trying to be set on a copy of a slice from a DataFrame.\n",
      "Try using .loc[row_indexer,col_indexer] = value instead\n",
      "\n",
      "See the caveats in the documentation: https://pandas.pydata.org/pandas-docs/stable/user_guide/indexing.html#returning-a-view-versus-a-copy\n",
      "  df_test.query('target == 1')['prob_1'] = np.array(probability_y11)\n"
     ]
    }
   ],
   "source": [
    "\n",
    "\n",
    "df_test.query('target == 0')['prob_0'] = np.array(probability_y00)\n",
    "df_test.query('target == 0')['prob_1'] = np.array(probability_y01)\n",
    "df_test.query('target == 1')['prob_0'] = np.array(probability_y10)\n",
    "df_test.query('target == 1')['prob_1'] = np.array(probability_y11)\n",
    "\n"
   ]
  },
  {
   "cell_type": "code",
   "execution_count": 380,
   "metadata": {},
   "outputs": [
    {
     "data": {
      "text/html": [
       "<div>\n",
       "<style scoped>\n",
       "    .dataframe tbody tr th:only-of-type {\n",
       "        vertical-align: middle;\n",
       "    }\n",
       "\n",
       "    .dataframe tbody tr th {\n",
       "        vertical-align: top;\n",
       "    }\n",
       "\n",
       "    .dataframe thead th {\n",
       "        text-align: right;\n",
       "    }\n",
       "</style>\n",
       "<table border=\"1\" class=\"dataframe\">\n",
       "  <thead>\n",
       "    <tr style=\"text-align: right;\">\n",
       "      <th></th>\n",
       "      <th>values</th>\n",
       "      <th>f1</th>\n",
       "      <th>mf1</th>\n",
       "      <th>vf1</th>\n",
       "      <th>f2</th>\n",
       "      <th>mf2</th>\n",
       "      <th>vf2</th>\n",
       "      <th>target</th>\n",
       "      <th>match</th>\n",
       "      <th>pred</th>\n",
       "    </tr>\n",
       "  </thead>\n",
       "  <tbody>\n",
       "    <tr>\n",
       "      <th>0</th>\n",
       "      <td>[0, 0, 0, 0, 0, 0, 0, 0, 0, 0, 0, 0, 0, 0, 0, ...</td>\n",
       "      <td>47.211735</td>\n",
       "      <td>43.939139</td>\n",
       "      <td>123.180021</td>\n",
       "      <td>92.404024</td>\n",
       "      <td>87.185777</td>\n",
       "      <td>106.462851</td>\n",
       "      <td>0</td>\n",
       "      <td>True</td>\n",
       "      <td>0</td>\n",
       "    </tr>\n",
       "    <tr>\n",
       "      <th>1</th>\n",
       "      <td>[0, 0, 0, 0, 0, 0, 0, 0, 0, 0, 0, 0, 0, 0, 0, ...</td>\n",
       "      <td>37.960459</td>\n",
       "      <td>43.939139</td>\n",
       "      <td>123.180021</td>\n",
       "      <td>81.635543</td>\n",
       "      <td>87.185777</td>\n",
       "      <td>106.462851</td>\n",
       "      <td>0</td>\n",
       "      <td>True</td>\n",
       "      <td>0</td>\n",
       "    </tr>\n",
       "    <tr>\n",
       "      <th>2</th>\n",
       "      <td>[0, 0, 0, 0, 0, 0, 0, 0, 0, 0, 0, 0, 0, 0, 0, ...</td>\n",
       "      <td>37.508929</td>\n",
       "      <td>43.939139</td>\n",
       "      <td>123.180021</td>\n",
       "      <td>81.886587</td>\n",
       "      <td>87.185777</td>\n",
       "      <td>106.462851</td>\n",
       "      <td>0</td>\n",
       "      <td>True</td>\n",
       "      <td>0</td>\n",
       "    </tr>\n",
       "    <tr>\n",
       "      <th>3</th>\n",
       "      <td>[0, 0, 0, 0, 0, 0, 0, 0, 0, 0, 0, 0, 0, 0, 0, ...</td>\n",
       "      <td>67.417092</td>\n",
       "      <td>43.939139</td>\n",
       "      <td>123.180021</td>\n",
       "      <td>105.642764</td>\n",
       "      <td>87.185777</td>\n",
       "      <td>106.462851</td>\n",
       "      <td>0</td>\n",
       "      <td>True</td>\n",
       "      <td>0</td>\n",
       "    </tr>\n",
       "    <tr>\n",
       "      <th>4</th>\n",
       "      <td>[0, 0, 0, 0, 0, 0, 0, 0, 0, 0, 0, 0, 0, 0, 0, ...</td>\n",
       "      <td>43.903061</td>\n",
       "      <td>43.939139</td>\n",
       "      <td>123.180021</td>\n",
       "      <td>88.897417</td>\n",
       "      <td>87.185777</td>\n",
       "      <td>106.462851</td>\n",
       "      <td>0</td>\n",
       "      <td>True</td>\n",
       "      <td>0</td>\n",
       "    </tr>\n",
       "    <tr>\n",
       "      <th>...</th>\n",
       "      <td>...</td>\n",
       "      <td>...</td>\n",
       "      <td>...</td>\n",
       "      <td>...</td>\n",
       "      <td>...</td>\n",
       "      <td>...</td>\n",
       "      <td>...</td>\n",
       "      <td>...</td>\n",
       "      <td>...</td>\n",
       "      <td>...</td>\n",
       "    </tr>\n",
       "    <tr>\n",
       "      <th>2110</th>\n",
       "      <td>[0, 0, 0, 0, 0, 0, 0, 0, 0, 0, 0, 0, 0, 0, 0, ...</td>\n",
       "      <td>18.743622</td>\n",
       "      <td>19.568063</td>\n",
       "      <td>34.882007</td>\n",
       "      <td>60.656669</td>\n",
       "      <td>61.671272</td>\n",
       "      <td>90.251246</td>\n",
       "      <td>1</td>\n",
       "      <td>True</td>\n",
       "      <td>1</td>\n",
       "    </tr>\n",
       "    <tr>\n",
       "      <th>2111</th>\n",
       "      <td>[0, 0, 0, 0, 0, 0, 0, 0, 0, 0, 0, 0, 0, 0, 0, ...</td>\n",
       "      <td>17.868622</td>\n",
       "      <td>19.568063</td>\n",
       "      <td>34.882007</td>\n",
       "      <td>58.279143</td>\n",
       "      <td>61.671272</td>\n",
       "      <td>90.251246</td>\n",
       "      <td>1</td>\n",
       "      <td>True</td>\n",
       "      <td>1</td>\n",
       "    </tr>\n",
       "    <tr>\n",
       "      <th>2112</th>\n",
       "      <td>[0, 0, 0, 0, 0, 0, 0, 0, 0, 0, 0, 0, 0, 0, 0, ...</td>\n",
       "      <td>21.605867</td>\n",
       "      <td>19.568063</td>\n",
       "      <td>34.882007</td>\n",
       "      <td>65.155203</td>\n",
       "      <td>61.671272</td>\n",
       "      <td>90.251246</td>\n",
       "      <td>1</td>\n",
       "      <td>True</td>\n",
       "      <td>1</td>\n",
       "    </tr>\n",
       "    <tr>\n",
       "      <th>2113</th>\n",
       "      <td>[0, 0, 0, 0, 0, 0, 0, 0, 0, 0, 0, 0, 0, 0, 0, ...</td>\n",
       "      <td>22.035714</td>\n",
       "      <td>19.568063</td>\n",
       "      <td>34.882007</td>\n",
       "      <td>67.283620</td>\n",
       "      <td>61.671272</td>\n",
       "      <td>90.251246</td>\n",
       "      <td>1</td>\n",
       "      <td>True</td>\n",
       "      <td>1</td>\n",
       "    </tr>\n",
       "    <tr>\n",
       "      <th>2114</th>\n",
       "      <td>[0, 0, 0, 0, 0, 0, 0, 0, 0, 0, 0, 0, 0, 0, 0, ...</td>\n",
       "      <td>21.988520</td>\n",
       "      <td>19.568063</td>\n",
       "      <td>34.882007</td>\n",
       "      <td>66.447778</td>\n",
       "      <td>61.671272</td>\n",
       "      <td>90.251246</td>\n",
       "      <td>1</td>\n",
       "      <td>True</td>\n",
       "      <td>1</td>\n",
       "    </tr>\n",
       "  </tbody>\n",
       "</table>\n",
       "<p>2115 rows × 10 columns</p>\n",
       "</div>"
      ],
      "text/plain": [
       "                                                 values         f1        mf1  \\\n",
       "0     [0, 0, 0, 0, 0, 0, 0, 0, 0, 0, 0, 0, 0, 0, 0, ...  47.211735  43.939139   \n",
       "1     [0, 0, 0, 0, 0, 0, 0, 0, 0, 0, 0, 0, 0, 0, 0, ...  37.960459  43.939139   \n",
       "2     [0, 0, 0, 0, 0, 0, 0, 0, 0, 0, 0, 0, 0, 0, 0, ...  37.508929  43.939139   \n",
       "3     [0, 0, 0, 0, 0, 0, 0, 0, 0, 0, 0, 0, 0, 0, 0, ...  67.417092  43.939139   \n",
       "4     [0, 0, 0, 0, 0, 0, 0, 0, 0, 0, 0, 0, 0, 0, 0, ...  43.903061  43.939139   \n",
       "...                                                 ...        ...        ...   \n",
       "2110  [0, 0, 0, 0, 0, 0, 0, 0, 0, 0, 0, 0, 0, 0, 0, ...  18.743622  19.568063   \n",
       "2111  [0, 0, 0, 0, 0, 0, 0, 0, 0, 0, 0, 0, 0, 0, 0, ...  17.868622  19.568063   \n",
       "2112  [0, 0, 0, 0, 0, 0, 0, 0, 0, 0, 0, 0, 0, 0, 0, ...  21.605867  19.568063   \n",
       "2113  [0, 0, 0, 0, 0, 0, 0, 0, 0, 0, 0, 0, 0, 0, 0, ...  22.035714  19.568063   \n",
       "2114  [0, 0, 0, 0, 0, 0, 0, 0, 0, 0, 0, 0, 0, 0, 0, ...  21.988520  19.568063   \n",
       "\n",
       "             vf1          f2        mf2         vf2  target  match  pred  \n",
       "0     123.180021   92.404024  87.185777  106.462851       0   True     0  \n",
       "1     123.180021   81.635543  87.185777  106.462851       0   True     0  \n",
       "2     123.180021   81.886587  87.185777  106.462851       0   True     0  \n",
       "3     123.180021  105.642764  87.185777  106.462851       0   True     0  \n",
       "4     123.180021   88.897417  87.185777  106.462851       0   True     0  \n",
       "...          ...         ...        ...         ...     ...    ...   ...  \n",
       "2110   34.882007   60.656669  61.671272   90.251246       1   True     1  \n",
       "2111   34.882007   58.279143  61.671272   90.251246       1   True     1  \n",
       "2112   34.882007   65.155203  61.671272   90.251246       1   True     1  \n",
       "2113   34.882007   67.283620  61.671272   90.251246       1   True     1  \n",
       "2114   34.882007   66.447778  61.671272   90.251246       1   True     1  \n",
       "\n",
       "[2115 rows x 10 columns]"
      ]
     },
     "execution_count": 380,
     "metadata": {},
     "output_type": "execute_result"
    }
   ],
   "source": [
    "df_test"
   ]
  },
  {
   "cell_type": "code",
   "execution_count": 372,
   "metadata": {},
   "outputs": [],
   "source": [
    "target_match = []\n",
    "pred_value = []\n",
    "len_lists = [len(probability_y00),len(probability_y10)]\n",
    "\n",
    "for list in len_lists:\n",
    "    for i in range(list):\n",
    "        if list == len_lists[0]:\n",
    "            if probability_y00[i] > probability_y01[i]:\n",
    "                pred_value.append(True)\n",
    "            else:\n",
    "                pred_value.append(False)\n",
    "\n",
    "            target_match.append(probability_y00[i] > probability_y01[i])\n",
    "        if list == len_lists[1]:\n",
    "            if probability_y10[i] < probability_y11[i]:\n",
    "                pred_value.append(True)\n",
    "            else:\n",
    "                pred_value.append(False)\n",
    "            target_match.append(probability_y10[i] < probability_y11[i])\n",
    "\n",
    "#prediction_0 = [0 if p0 > p1 else 1 for p0, p1 in zip(probability_y00, probability_y01)]\n",
    "#prediction_1 = [1 if p1 > p0 else 0 for p0, p1 in zip(probability_y10, probability_y11)]"
   ]
  },
  {
   "cell_type": "code",
   "execution_count": 379,
   "metadata": {},
   "outputs": [],
   "source": [
    "df_test['pred'] = pred_value\n",
    "df_test['match'] = target_match#numpy.where(df_test['pred'] ==  df_test['target'], True, False)"
   ]
  },
  {
   "cell_type": "code",
   "execution_count": 383,
   "metadata": {},
   "outputs": [
    {
     "name": "stdout",
     "output_type": "stream",
     "text": [
      "True     0.917347\n",
      "False    0.082653\n",
      "Name: match, dtype: float64\n",
      "[[899  81]\n",
      " [  0   0]]\n",
      "True     0.923348\n",
      "False    0.076652\n",
      "Name: match, dtype: float64\n",
      "[[   0    0]\n",
      " [  87 1048]]\n"
     ]
    }
   ],
   "source": [
    "for x in df_test.target.unique():\n",
    "    print(df_test.query('target == '+str(x)).match.value_counts()/len(df_test.query('target == '+str(x))))\n",
    "    cm = confusion_matrix(df_test.query('target == '+str(x))['target'],df_test.query('target == '+str(x))['pred'])\n",
    "    print(cm)"
   ]
  },
  {
   "cell_type": "code",
   "execution_count": 377,
   "metadata": {},
   "outputs": [
    {
     "name": "stdout",
     "output_type": "stream",
     "text": [
      "1.0\n",
      "[[980]]\n",
      "1.0\n",
      "[[1135]]\n"
     ]
    }
   ],
   "source": [
    "gnb = GaussianNB()\n",
    "sc = StandardScaler()  \n",
    "\n",
    "for x in df_train.target.unique():\n",
    "    \n",
    "    X_train = df_train[df_train['target'] == x][['f1','f2']]\n",
    "    X_test = df_test[df_test['target'] == x][['f1','f2']]\n",
    "\n",
    "    x_train = sc.fit_transform(X_train)  \n",
    "    x_test = sc.transform(X_test) \n",
    "\n",
    "    y_train = np.array(df_train[df_train['target'] == x]['target'])\n",
    "    y_test = np.array(df_test[df_test['target'] == x]['target'])\n",
    "\n",
    "\n",
    "    y_pred = gnb.fit(x_train, y_train).predict(x_test)    \n",
    "    print(accuracy_score(y_test, y_pred))\n",
    "    cm = confusion_matrix(y_test, y_pred)  \n",
    "    print(cm)"
   ]
  },
  {
   "cell_type": "code",
   "execution_count": null,
   "metadata": {},
   "outputs": [],
   "source": []
  },
  {
   "cell_type": "code",
   "execution_count": null,
   "metadata": {},
   "outputs": [],
   "source": []
  },
  {
   "cell_type": "code",
   "execution_count": null,
   "metadata": {},
   "outputs": [],
   "source": []
  }
 ],
 "metadata": {
  "kernelspec": {
   "display_name": "Python 3.9.12 ('base')",
   "language": "python",
   "name": "python3"
  },
  "language_info": {
   "codemirror_mode": {
    "name": "ipython",
    "version": 3
   },
   "file_extension": ".py",
   "mimetype": "text/x-python",
   "name": "python",
   "nbconvert_exporter": "python",
   "pygments_lexer": "ipython3",
   "version": "3.9.12"
  },
  "vscode": {
   "interpreter": {
    "hash": "90c9b1b1a75bac5eb83991887e6751c001170985b8ea7596804a2bf25084641b"
   }
  }
 },
 "nbformat": 4,
 "nbformat_minor": 2
}
